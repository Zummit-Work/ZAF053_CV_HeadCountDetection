{
 "cells": [
  {
   "cell_type": "markdown",
   "id": "a4ad9bec-08bd-4f6f-a001-6479ded59885",
   "metadata": {},
   "source": [
    "# **MediaPipe**"
   ]
  },
  {
   "cell_type": "markdown",
   "id": "11f629e8-34ae-4987-a690-e5c28d407a41",
   "metadata": {},
   "source": [
    "### Function"
   ]
  },
  {
   "cell_type": "code",
   "execution_count": 1,
   "id": "165abc85-1e5f-436b-845c-2752fb7b31a0",
   "metadata": {
    "tags": []
   },
   "outputs": [],
   "source": [
    "def mediapipe():   \n",
    "    \n",
    "    import cv2\n",
    "    import mediapipe as mp\n",
    "    import time\n",
    "    import sys\n",
    "\n",
    "    # TAKE IN WEBCAM INPUT AND DETECT FACE\n",
    "    cap = cv2.VideoCapture(0)\n",
    "    pTime = 0\n",
    "\n",
    "    mpFaceDetection = mp.solutions.face_detection\n",
    "    mpDraw = mp.solutions.drawing_utils\n",
    "    faceDetection = mpFaceDetection.FaceDetection(0.75)\n",
    "\n",
    "    while True:\n",
    "\n",
    "        if cv2.waitKey(1) == ord('q'):\n",
    "            break\n",
    "        \n",
    "        success, img = cap.read()\n",
    "        imgRGB = cv2.cvtColor(img, cv2.COLOR_BGR2RGB)\n",
    "        results = faceDetection.process(imgRGB)      \n",
    "\n",
    "        if results.detections:\n",
    "            for id, detection in enumerate(results.detections):\n",
    "                # mpDraw.draw_detection(img, detection)\n",
    "                # print(id, detection)\n",
    "                # print(detection.score)\n",
    "                # print(detection.location_data.relative_bounding_box)\n",
    "                bboxC = detection.location_data.relative_bounding_box\n",
    "                ih, iw, ic = img.shape\n",
    "                bbox = int(bboxC.xmin * iw), int(bboxC.ymin * ih), \\\n",
    "                       int(bboxC.width * iw), int(bboxC.height * ih)\n",
    "                cv2.rectangle(img, bbox, (255, 0, 255), 2)\n",
    "                cv2.putText(img, f'{int(detection.score[0] * 100)}%',\n",
    "                            (bbox[0], bbox[1] - 20), cv2.FONT_HERSHEY_PLAIN,\n",
    "                            2, (255, 0, 255), 2)\n",
    "\n",
    "        sys.stdout.write(f'Coordinates: {bbox}\\r')\n",
    "        sys.stdout.flush()\n",
    "        \n",
    "        \n",
    "        cTime = time.time()\n",
    "        fps = 1 / (cTime - pTime)\n",
    "        pTime = cTime\n",
    "        \n",
    "        cv2.putText(\n",
    "            img,\n",
    "            f'FPS: {int(fps)}',\n",
    "            (20, 70),\n",
    "            cv2.FONT_HERSHEY_PLAIN,\n",
    "            3,\n",
    "            (0, 255, 0),\n",
    "            2\n",
    "        )\n",
    "        \n",
    "        cv2.imshow(\"Image\", img)\n",
    "    \n",
    "    \n",
    "    # After the loop release the cap object\n",
    "    cap.release()\n",
    "    # Destroy all the windows\n",
    "    cv2.destroyAllWindows()\n",
    "\n"
   ]
  },
  {
   "cell_type": "code",
   "execution_count": 2,
   "id": "6812f41c-3b4c-4512-ae5c-6354bd1e9ad0",
   "metadata": {
    "tags": []
   },
   "outputs": [
    {
     "name": "stdout",
     "output_type": "stream",
     "text": [
      "Coordinates: (222, 214, 137, 137)\r"
     ]
    }
   ],
   "source": [
    "mediapipe()"
   ]
  },
  {
   "cell_type": "code",
   "execution_count": null,
   "id": "176f2f53-0855-4f00-9d6d-9c65fe3b2663",
   "metadata": {},
   "outputs": [],
   "source": []
  },
  {
   "cell_type": "code",
   "execution_count": null,
   "id": "dd5e0c1b-113e-42a2-bc7b-dd9823dfd82d",
   "metadata": {},
   "outputs": [],
   "source": []
  },
  {
   "cell_type": "markdown",
   "id": "03749fd2-4ce1-481f-9764-11fe228f1dd3",
   "metadata": {},
   "source": [
    "### Module"
   ]
  },
  {
   "cell_type": "code",
   "execution_count": null,
   "id": "d73b1bfd-118a-4b61-9c60-0261fb9ed0ae",
   "metadata": {
    "tags": []
   },
   "outputs": [
    {
     "name": "stdout",
     "output_type": "stream",
     "text": [
      "[[0, (216, 237, 144, 144), [0.8527037501335144]]] [1, (99, 103, 93, 93), [0.5043913722038269]]]]]]\r"
     ]
    }
   ],
   "source": [
    "import cv2\n",
    "import mediapipe as mp\n",
    "import time\n",
    "\n",
    "\n",
    "class FaceDetector():\n",
    "    def __init__(self, minDetectionCon=0.5):\n",
    "\n",
    "        self.minDetectionCon = minDetectionCon\n",
    "\n",
    "        self.mpFaceDetection = mp.solutions.face_detection\n",
    "        self.mpDraw = mp.solutions.drawing_utils\n",
    "        self.faceDetection = self.mpFaceDetection.FaceDetection(self.minDetectionCon)\n",
    "\n",
    "    def findFaces(self, img, draw=True):\n",
    "\n",
    "        imgRGB = cv2.cvtColor(img, cv2.COLOR_BGR2RGB)\n",
    "        self.results = self.faceDetection.process(imgRGB)\n",
    "        # print(self.results)\n",
    "        bboxs = []\n",
    "        if self.results.detections:\n",
    "            for id, detection in enumerate(self.results.detections):\n",
    "                bboxC = detection.location_data.relative_bounding_box\n",
    "                ih, iw, ic = img.shape\n",
    "                bbox = int(bboxC.xmin * iw), int(bboxC.ymin * ih), \\\n",
    "                       int(bboxC.width * iw), int(bboxC.height * ih)\n",
    "                bboxs.append([id, bbox, detection.score])\n",
    "                if draw:\n",
    "                    img = self.fancyDraw(img,bbox)\n",
    "\n",
    "                    cv2.putText(img, f'{int(detection.score[0] * 100)}%',\n",
    "                            (bbox[0], bbox[1] - 20), cv2.FONT_HERSHEY_PLAIN,\n",
    "                            2, (255, 0, 255), 2)\n",
    "        return img, bboxs\n",
    "\n",
    "    def fancyDraw(self, img, bbox, l=30, t=5, rt= 1):\n",
    "        x, y, w, h = bbox\n",
    "        x1, y1 = x + w, y + h\n",
    "\n",
    "        cv2.rectangle(img, bbox, (255, 0, 255), rt)\n",
    "        # Top Left  x,y\n",
    "        cv2.line(img, (x, y), (x + l, y), (255, 0, 255), t)\n",
    "        cv2.line(img, (x, y), (x, y+l), (255, 0, 255), t)\n",
    "        # Top Right  x1,y\n",
    "        cv2.line(img, (x1, y), (x1 - l, y), (255, 0, 255), t)\n",
    "        cv2.line(img, (x1, y), (x1, y+l), (255, 0, 255), t)\n",
    "        # Bottom Left  x,y1\n",
    "        cv2.line(img, (x, y1), (x + l, y1), (255, 0, 255), t)\n",
    "        cv2.line(img, (x, y1), (x, y1 - l), (255, 0, 255), t)\n",
    "        # Bottom Right  x1,y1\n",
    "        cv2.line(img, (x1, y1), (x1 - l, y1), (255, 0, 255), t)\n",
    "        cv2.line(img, (x1, y1), (x1, y1 - l), (255, 0, 255), t)\n",
    "        return img\n",
    "\n",
    "\n",
    "def main():\n",
    "    \n",
    "    import sys\n",
    "\n",
    "    # TAKE IN WEBCAM INPUT AND DETECT FACE\n",
    "    cap = cv2.VideoCapture(0)\n",
    "    \n",
    "    pTime = 0\n",
    "    detector = FaceDetector()\n",
    "    while True:\n",
    "        success, img = cap.read()\n",
    "        img, bboxs = detector.findFaces(img)\n",
    "        \n",
    "        sys.stdout.write(f'{bboxs}\\r')\n",
    "        sys.stdout.flush()\n",
    "\n",
    "        cTime = time.time()\n",
    "        fps = 1 / (cTime - pTime)\n",
    "        pTime = cTime\n",
    "        cv2.putText(img, f'FPS: {int(fps)}', (20, 70), cv2.FONT_HERSHEY_PLAIN, 3, (0, 255, 0), 2)\n",
    "        cv2.imshow(\"Image\", img)\n",
    "        \n",
    "        if cv2.waitKey(1) == ord('q'):\n",
    "            break\n",
    "        \n",
    "    \n",
    "    # After the loop release the cap object\n",
    "    cap.release()\n",
    "    # Destroy all the windows\n",
    "    cv2.destroyAllWindows()\n",
    "\n",
    "\n",
    "\n",
    "main()"
   ]
  },
  {
   "cell_type": "code",
   "execution_count": null,
   "id": "95d4fbf8-c87b-4446-bd5a-580fb6608c83",
   "metadata": {},
   "outputs": [],
   "source": []
  },
  {
   "cell_type": "code",
   "execution_count": null,
   "id": "813d7957-f971-4a50-9afc-848f554a10c2",
   "metadata": {},
   "outputs": [],
   "source": []
  },
  {
   "cell_type": "code",
   "execution_count": 3,
   "id": "9d8d4e88-8dd7-46a2-a9e6-9681f174026a",
   "metadata": {},
   "outputs": [],
   "source": [
    "import cv2 as cv\n",
    "\n",
    "filepath = 'C:/Users/afzal/Pictures/dataset/train/image_data/'\n",
    "\n",
    "img = cv.imread(filepath+'10001.jpg')\n",
    "\n",
    "cv.imshow('a window',img)\n",
    "cv.waitKey(-1)"
   ]
  },
  {
   "cell_type": "code",
   "execution_count": null,
   "id": "6a4c7842-8043-45a1-8d16-0bc399f8625b",
   "metadata": {},
   "outputs": [],
   "source": []
  },
  {
   "cell_type": "code",
   "execution_count": null,
   "id": "682bed21-3beb-441c-927e-e6031d3ecca1",
   "metadata": {},
   "outputs": [],
   "source": []
  },
  {
   "cell_type": "code",
   "execution_count": null,
   "id": "9624ad6b-64ec-4412-be83-cab271d20a6f",
   "metadata": {},
   "outputs": [],
   "source": []
  },
  {
   "cell_type": "code",
   "execution_count": null,
   "id": "ca0e6d7f-7a25-486c-8aa2-4d17e4252d05",
   "metadata": {},
   "outputs": [],
   "source": []
  },
  {
   "cell_type": "code",
   "execution_count": null,
   "id": "a08903cc-7e60-465a-9c43-e91e7a642227",
   "metadata": {},
   "outputs": [],
   "source": []
  },
  {
   "cell_type": "code",
   "execution_count": null,
   "id": "8d2c11c1-d674-4083-bf2e-97947470298d",
   "metadata": {},
   "outputs": [],
   "source": []
  },
  {
   "cell_type": "markdown",
   "id": "0e89ccaa-b556-4ed0-a512-bcfea3e04aa1",
   "metadata": {
    "jp-MarkdownHeadingCollapsed": true,
    "tags": []
   },
   "source": [
    "# Ignore"
   ]
  },
  {
   "cell_type": "code",
   "execution_count": 1,
   "id": "f7894962-53e6-4ba7-abd6-3e76f658dbfe",
   "metadata": {},
   "outputs": [
    {
     "name": "stdout",
     "output_type": "stream",
     "text": [
      "99\r"
     ]
    }
   ],
   "source": [
    "import sys\n",
    "import time\n",
    "\n",
    "for i in range(100):\n",
    "    sys.stdout.write(f'{i}\\r')\n",
    "    time.sleep(0.1)\n",
    "    sys.stdout.flush()\n"
   ]
  },
  {
   "cell_type": "code",
   "execution_count": null,
   "id": "2b338642-e2f3-4722-b33f-4b734bba302a",
   "metadata": {},
   "outputs": [],
   "source": []
  },
  {
   "cell_type": "code",
   "execution_count": null,
   "id": "295b7a5a-6048-4c60-85dc-e9527c8f8402",
   "metadata": {},
   "outputs": [],
   "source": []
  }
 ],
 "metadata": {
  "kernelspec": {
   "display_name": "Python 3 (ipykernel)",
   "language": "python",
   "name": "python3"
  },
  "language_info": {
   "codemirror_mode": {
    "name": "ipython",
    "version": 3
   },
   "file_extension": ".py",
   "mimetype": "text/x-python",
   "name": "python",
   "nbconvert_exporter": "python",
   "pygments_lexer": "ipython3",
   "version": "3.10.8"
  }
 },
 "nbformat": 4,
 "nbformat_minor": 5
}
